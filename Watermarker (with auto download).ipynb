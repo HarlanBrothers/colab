{
  "nbformat": 4,
  "nbformat_minor": 0,
  "metadata": {
    "colab": {
      "name": "Watermarkeripynb",
      "provenance": [],
      "collapsed_sections": []
    },
    "kernelspec": {
      "name": "python3",
      "display_name": "Python 3"
    },
    "language_info": {
      "name": "python"
    }
  },
  "cells": [
    {
      "cell_type": "markdown",
      "source": [
        "This notebook now includes automatic download along with form fields for font size and watermark position.  I believe the notebook was originally authored by [samboylan11](https://github.com/samboylan11)."
      ],
      "metadata": {
        "id": "X3d67w1i33Cl"
      }
    },
    {
      "cell_type": "markdown",
      "source": [
        "#**INSTRUCTIONS**\n",
        "\n",
        "1) Upload File to Folder Directory (press folder icon in left menu, then upload image)\n",
        "\n",
        "2) Hover over uploaded file, press 3 vertical dots, copy path and paste in Path Variable in Section 2 below\n",
        "\n",
        "3) Run Code Block 1\n",
        "\n",
        "4) Run Code Block 2 with the chosen parameters!"
      ],
      "metadata": {
        "id": "0YJwhVTLsns8"
      }
    },
    {
      "cell_type": "code",
      "source": [
        "# @markdown # 1) Download Required Packages for Watermarker\n",
        "!curl -L -o fonts.zip -C - https://www.fontsquirrel.com/fonts/download/open-sans\n",
        "!unzip fonts.zip -d fonts"
      ],
      "metadata": {
        "id": "dh0-_0Wgv1uq",
        "cellView": "form"
      },
      "execution_count": null,
      "outputs": []
    },
    {
      "cell_type": "code",
      "execution_count": 9,
      "metadata": {
        "colab": {
          "base_uri": "https://localhost:8080/",
          "height": 35
        },
        "id": "Biw6oY4esjJh",
        "outputId": "64cd3692-0cc1-4bbc-bed5-c3f7b8aece69",
        "cellView": "form"
      },
      "outputs": [
        {
          "output_type": "stream",
          "name": "stdout",
          "text": [
            "Watermark added to result.png\n"
          ]
        },
        {
          "output_type": "display_data",
          "data": {
            "text/plain": [
              "<IPython.core.display.Javascript object>"
            ],
            "application/javascript": [
              "\n",
              "    async function download(id, filename, size) {\n",
              "      if (!google.colab.kernel.accessAllowed) {\n",
              "        return;\n",
              "      }\n",
              "      const div = document.createElement('div');\n",
              "      const label = document.createElement('label');\n",
              "      label.textContent = `Downloading \"${filename}\": `;\n",
              "      div.appendChild(label);\n",
              "      const progress = document.createElement('progress');\n",
              "      progress.max = size;\n",
              "      div.appendChild(progress);\n",
              "      document.body.appendChild(div);\n",
              "\n",
              "      const buffers = [];\n",
              "      let downloaded = 0;\n",
              "\n",
              "      const channel = await google.colab.kernel.comms.open(id);\n",
              "      // Send a message to notify the kernel that we're ready.\n",
              "      channel.send({})\n",
              "\n",
              "      for await (const message of channel.messages) {\n",
              "        // Send a message to notify the kernel that we're ready.\n",
              "        channel.send({})\n",
              "        if (message.buffers) {\n",
              "          for (const buffer of message.buffers) {\n",
              "            buffers.push(buffer);\n",
              "            downloaded += buffer.byteLength;\n",
              "            progress.value = downloaded;\n",
              "          }\n",
              "        }\n",
              "      }\n",
              "      const blob = new Blob(buffers, {type: 'application/binary'});\n",
              "      const a = document.createElement('a');\n",
              "      a.href = window.URL.createObjectURL(blob);\n",
              "      a.download = filename;\n",
              "      div.appendChild(a);\n",
              "      a.click();\n",
              "      div.remove();\n",
              "    }\n",
              "  "
            ]
          },
          "metadata": {}
        },
        {
          "output_type": "display_data",
          "data": {
            "text/plain": [
              "<IPython.core.display.Javascript object>"
            ],
            "application/javascript": [
              "download(\"download_ba64906c-017a-4da3-8ae3-05782e9d7b2d\", \"result.png\", 220058)"
            ]
          },
          "metadata": {}
        }
      ],
      "source": [
        "#@markdown # 2) Run The WaterMarker (upper left corner = {0,0})\n",
        "\n",
        "path = \"/content/sample_data/\" #@param {type:\"string\"}\n",
        "watermark = \"@artist_name\" #@param {type:\"string\"}\n",
        "xCoor = 10\n",
        "yCoor = 10\n",
        "fontSize = 16 #@param {type:\"number\"}\n",
        "xCoor = 10 #@param {type:\"number\"}\n",
        "yCoor = 10 #@param {type:\"number\"}\n",
        "# font = ImageFont.truetype( 70)\n",
        "from PIL import ImageFont, ImageDraw, Image\n",
        "import numpy as np\n",
        "import cv2\n",
        "\n",
        "image = cv2.imread(path)\n",
        "\n",
        "# Convert to PIL Image\n",
        "cv2_im_rgb = cv2.cvtColor(image, cv2.COLOR_BGR2RGB)\n",
        "pil_im = Image.fromarray(cv2_im_rgb)\n",
        "\n",
        "draw = ImageDraw.Draw(pil_im)\n",
        "\n",
        "# Choose a font\n",
        "font = ImageFont.truetype(\"fonts/OpenSans-Light.ttf\", fontSize)\n",
        "\n",
        "# Draw the text\n",
        "draw.text((xCoor,yCoor), watermark, font=font)\n",
        "\n",
        "# Save the image\n",
        "cv2_im_processed = cv2.cvtColor(np.array(pil_im), cv2.COLOR_RGB2BGR)\n",
        "cv2.imwrite(\"result.png\", cv2_im_processed)\n",
        "print(\"Watermark added to result.png\")\n",
        "from google.colab import files\n",
        "files.download(\"/content/result.png\")"
      ]
    }
  ]
}