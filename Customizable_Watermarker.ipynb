{
  "nbformat": 4,
  "nbformat_minor": 0,
  "metadata": {
    "colab": {
      "provenance": [],
      "collapsed_sections": []
    },
    "kernelspec": {
      "name": "python3",
      "display_name": "Python 3"
    },
    "language_info": {
      "name": "python"
    }
  },
  "cells": [
    {
      "cell_type": "markdown",
      "source": [
        "### *This notebook had been updated to include automatic download along with form fields for font, font size, watermark position, and text color. I believe the original version of the notebook was authored by [samboylan11](https://github.com/samboylan11).*\n",
        "###--[Harlan Brothers](https://github.com/harlanbrothers)"
      ],
      "metadata": {
        "id": "X3d67w1i33Cl"
      }
    },
    {
      "cell_type": "markdown",
      "source": [
        "#**INSTRUCTIONS**\n",
        "\n",
        "1) Run code block 1.\n",
        "\n",
        "2) Run code block 2 and allow access to your Google Drive.\n",
        "\n",
        "3) Using Google Drive, place files for watermarking in the Google Drive directory named \"MyDrive/Uploads.\"\n",
        "\n",
        "4) Using the Files pane on the left side of this notebook, hover over an uploaded file in MyDrive/Uploads and press the 3 vertical dots. Then copy the path and paste it into the \"path\" field in Section 3.\n",
        "\n",
        "5) Customize the rest of the form as required.\n",
        "\n",
        "6) Run code block 3. The watermarked image will automatically download."
      ],
      "metadata": {
        "id": "0YJwhVTLsns8"
      }
    },
    {
      "cell_type": "code",
      "source": [
        "#@title #1) Download Required Packages\n",
        "!curl -L -o fonts.zip -C - https://www.fontsquirrel.com/fonts/download/open-sans\n",
        "!unzip fonts.zip -d fonts"
      ],
      "metadata": {
        "id": "dh0-_0Wgv1uq",
        "cellView": "form"
      },
      "execution_count": null,
      "outputs": []
    },
    {
      "cell_type": "code",
      "execution_count": null,
      "metadata": {
        "id": "DeqQ7pt1zdI7",
        "cellView": "form"
      },
      "outputs": [],
      "source": [
        "#@title #2) Mount Google Drive and Add Image Directory\n",
        "from google.colab import drive\n",
        "drive.mount('/content/gdrive')\n",
        "upload_path = \"/content/gdrive/MyDrive/Uploads\"\n",
        "!mkdir -p $upload_path\n",
        "print(f\"Uploads for watermarking can be accessed here: {upload_path}\")"
      ]
    },
    {
      "cell_type": "markdown",
      "source": [
        "# 3) Run The WaterMarker"
      ],
      "metadata": {
        "id": "f0UuGQOLn_qt"
      }
    },
    {
      "cell_type": "markdown",
      "source": [
        "Upper left corner = {0, 0}  \n",
        "Default text color is rendered in grayscale. For colored text, replace grayVal entries in the \"textColor\" field with individual RGB values. "
      ],
      "metadata": {
        "id": "k5JRQs0inyWd"
      }
    },
    {
      "cell_type": "markdown",
      "source": [],
      "metadata": {
        "id": "gNr1HJOXYr8H"
      }
    },
    {
      "cell_type": "code",
      "execution_count": null,
      "metadata": {
        "id": "Biw6oY4esjJh",
        "cellView": "form"
      },
      "outputs": [],
      "source": [
        "\n",
        "path = \"/content/gdrive/MyDrive/Uploads/\" #@param {type:\"string\"}\n",
        "watermark = \"@authorName\" #@param {type:\"string\"}\n",
        "xCoor = 10\n",
        "yCoor = 10\n",
        "font = \"OpenSans-Regular\" #@param [\"OpenSans-Bold\", \"OpenSans-BoldItalic\", \"OpenSans-ExtraBold\", \"OpenSans-ExtraBoldItalic\", \"OpenSans-Italic\", \"OpenSans-Light\", \"OpenSans-LightItalic\", \"OpenSans-Regular\", \"OpenSans-Semibold\", \"OpenSans-SemiboldItalic\"]\n",
        "fontSize = 16 #@param {type:\"number\"}\n",
        "xCoor = 10 #@param {type:\"number\"}\n",
        "yCoor = 10 #@param {type:\"number\"}\n",
        "grayVal = 0 #@param {type:\"number\"}\n",
        "opacity = 255 #@param {type:\"number\"}\n",
        "textColor = (grayVal, grayVal, grayVal) #@param {type:\"raw\"}\n",
        "\n",
        "from PIL import ImageFont, ImageDraw, Image\n",
        "import numpy as np\n",
        "import cv2\n",
        "\n",
        "image = cv2.imread(path)\n",
        "\n",
        "# Convert to PIL Image\n",
        "cv2_im_rgba = cv2.cvtColor(image, cv2.COLOR_BGR2RGBA)\n",
        "pil_im = Image.fromarray(cv2_im_rgba)\n",
        "\n",
        "draw = ImageDraw.Draw(pil_im)\n",
        "pil_im.show()\n",
        "\n",
        "# Assign font\n",
        "fontSelected = ImageFont.truetype(\"fonts/\"+font+\".ttf\", fontSize)\n",
        "\n",
        "# Draw the text\n",
        "tColorlist = list(textColor)\n",
        "textColor = tuple(tColorlist+list((opacity,)))\n",
        "\n",
        "draw.text((xCoor,yCoor), watermark, font=fontSelected, fill=textColor)\n",
        "\n",
        "# Save the image\n",
        "cv2_im_processed = cv2.cvtColor(np.array(pil_im), cv2.COLOR_RGB2BGRA)\n",
        "cv2.imwrite(\"watermarkedOut.png\", cv2_im_processed)\n",
        "print(\"Watermark added!\")\n",
        "from google.colab import files\n",
        "files.download(\"/content/watermarkedOut.png\")"
      ]
    }
  ]
}