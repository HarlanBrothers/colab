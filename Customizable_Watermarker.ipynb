{
  "nbformat": 4,
  "nbformat_minor": 0,
  "metadata": {
    "colab": {
      "provenance": [],
      "collapsed_sections": [],
      "include_colab_link": true
    },
    "kernelspec": {
      "name": "python3",
      "display_name": "Python 3"
    },
    "language_info": {
      "name": "python"
    }
  },
  "cells": [
    {
      "cell_type": "markdown",
      "metadata": {
        "id": "view-in-github",
        "colab_type": "text"
      },
      "source": [
        "<a href=\"https://colab.research.google.com/github/HarlanBrothers/colab/blob/main/Customizable_Watermarker.ipynb\" target=\"_parent\"><img src=\"https://colab.research.google.com/assets/colab-badge.svg\" alt=\"Open In Colab\"/></a>"
      ]
    },
    {
      "cell_type": "markdown",
      "source": [
        "#### *This is a new notebook for watermarking images. Multiple formatting options include the ability to add transparency to the text.* ###\n",
        "####[@Harlan Brothers](https://www.harlanjbrothers.com)"
      ],
      "metadata": {
        "id": "X3d67w1i33Cl"
      }
    },
    {
      "cell_type": "markdown",
      "source": [
        "#**INSTRUCTIONS**\n",
        "\n",
        "1) Run code block 1.\n",
        "\n",
        "2) Run code block 2 and allow access to your Google Drive.\n",
        "\n",
        "3) Using Google Drive, place files for watermarking in the Google Drive directory named \"MyDrive/Uploads.\"\n",
        "\n",
        "4) Using the Files pane on the left of this notebook, hover over an uploaded file in MyDrive/Uploads and press the 3 vertical dots. Then copy the path and paste it into the \"path\" field in Section 3.\n",
        "\n",
        "5) Customize the rest of the form as required.\n",
        "\n",
        "6) Run code block 3. The watermarked image will previewed and automatically downloaded."
      ],
      "metadata": {
        "id": "0YJwhVTLsns8"
      }
    },
    {
      "cell_type": "code",
      "source": [
        "#@title #1) Download Fonts\n",
        "!curl -L -o fonts.zip -C - https://www.fontsquirrel.com/fonts/download/open-sans\n",
        "!unzip fonts.zip -d fonts"
      ],
      "metadata": {
        "id": "dh0-_0Wgv1uq",
        "cellView": "form"
      },
      "execution_count": null,
      "outputs": []
    },
    {
      "cell_type": "code",
      "execution_count": null,
      "metadata": {
        "id": "DeqQ7pt1zdI7",
        "cellView": "form"
      },
      "outputs": [],
      "source": [
        "#@title #2) Mount Google Drive and Add Image Directory\n",
        "from google.colab import drive\n",
        "drive.mount('/content/gdrive')\n",
        "upload_path = \"/content/gdrive/MyDrive/Uploads\"\n",
        "!mkdir -p $upload_path\n",
        "print(f\"Uploads for watermarking can be accessed here: {upload_path}\")"
      ]
    },
    {
      "cell_type": "markdown",
      "source": [
        "# 3) Run the WaterMarker"
      ],
      "metadata": {
        "id": "f0UuGQOLn_qt"
      }
    },
    {
      "cell_type": "markdown",
      "source": [
        "*   Upper left corner = {0, 0}  \n",
        "*   Default text is rendered in grayscale\n",
        "*   For colored text, replace \"grayVal\" entries in the \"textColor\" field with individual RGB values\n",
        "*   Opacity scale is 0 (transparent) to 255 (opaque)\n",
        "\n",
        "\n",
        "\n",
        "\n",
        "\n"
      ],
      "metadata": {
        "id": "k5JRQs0inyWd"
      }
    },
    {
      "cell_type": "code",
      "execution_count": null,
      "metadata": {
        "id": "Biw6oY4esjJh",
        "cellView": "form"
      },
      "outputs": [],
      "source": [
        "path = \"\" #@param {type:\"string\"}\n",
        "watermark = \"@authorName\" #@param {type:\"string\"}\n",
        "xCoor = 10\n",
        "yCoor = 10\n",
        "font = \"OpenSans-Regular\" #@param [\"OpenSans-Bold\", \"OpenSans-BoldItalic\", \"OpenSans-ExtraBold\", \"OpenSans-ExtraBoldItalic\", \"OpenSans-Italic\", \"OpenSans-Light\", \"OpenSans-LightItalic\", \"OpenSans-Regular\", \"OpenSans-Semibold\", \"OpenSans-SemiboldItalic\"]\n",
        "fontSize = 18 #@param {type:\"number\"}\n",
        "xCoor = 10 #@param {type:\"number\"}\n",
        "yCoor = 10 #@param {type:\"number\"}\n",
        "grayVal = 255 #@param {type:\"number\"}\n",
        "opacity = 255 #@param {type:\"number\"}\n",
        "textColor = (grayVal, grayVal, grayVal) #@param {type:\"raw\"}\n",
        "\n",
        "#Import Libraries\n",
        "from PIL import Image, ImageDraw, ImageFont\n",
        "from matplotlib import pyplot as plt\n",
        "\n",
        "#Open Image and Create a Transparent Text Layer\n",
        "img = Image.open(path).convert(\"RGBA\")\n",
        "txtImg = Image.new('RGBA', img.size, (255, 255, 255, 0))\n",
        "\n",
        "#Create Draw Object\n",
        "draw = ImageDraw.Draw(txtImg)\n",
        "\n",
        "#Apply Formatted Watermark\n",
        "tColorlist = list(textColor)\n",
        "textColor = tuple(tColorlist+list((opacity,)))\n",
        "fontSelected = ImageFont.truetype(\"fonts/\"+font+\".ttf\", fontSize)\n",
        "draw.text((xCoor, yCoor), watermark, fill = textColor, font = fontSelected)\n",
        "\n",
        "#Combine Image with Watermark and Download\n",
        "watermarked = Image.alpha_composite(img, txtImg)\n",
        "watermarked.save(r'watermarkedOut.png')\n",
        "print(\"Watermark preview:\")\n",
        "plt.figure(figsize = (10, 10))\n",
        "plt.axis(\"off\")\n",
        "plt.imshow(watermarked)\n",
        "from google.colab import files\n",
        "files.download(\"/content/watermarkedOut.png\")\n"
      ]
    }
  ]
}